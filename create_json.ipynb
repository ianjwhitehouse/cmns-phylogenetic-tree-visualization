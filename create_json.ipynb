{
 "cells": [
  {
   "cell_type": "code",
   "execution_count": 84,
   "metadata": {},
   "outputs": [
    {
     "name": "stdout",
     "output_type": "stream",
     "text": [
      "{0: {1}, 1: {2}, 2: {3}, 3: {4}, 4: {5}, 5: {8, 6}, 6: {7}, 8: {9}}\n"
     ]
    }
   ],
   "source": [
    "import numpy as np\n",
    "\n",
    "# global variables\n",
    "tree_score = None\n",
    "nodes = {}\n",
    "clusters = {}\n",
    "mutations = {}\n",
    "node_freq = {}\n",
    "avg_obs_freq = {}\n",
    "\n",
    "with open('example_output.txt', 'r') as file:\n",
    "    cur_section = None\n",
    "    for line in file:\n",
    "        elements = line.strip().split() \n",
    "        if elements == ['TREE_SCORE']:\n",
    "            cur_section = 'tree_score'\n",
    "        elif elements == ['PARENT_NODE', 'CHILD_NODE']:\n",
    "            cur_section = 'node'\n",
    "        elif elements == ['CLUSTER', 'NODE_OF_CLUSTER']:\n",
    "            cur_section = 'cluster'\n",
    "        elif elements == ['MUTATION', 'NODE_OF_MUTATION']:\n",
    "            cur_section = 'mutation'\n",
    "        elif elements == ['NODE', 'NODE_FREQS', 'CLADE_FREQS']:\n",
    "            cur_section = 'node_freq'\n",
    "        elif elements == ['MUT_ID', 'OBSERVED_FREQS', 'INFERRED_FREQS', 'ABS_OBSERVED_MINUS_INFERRED']:\n",
    "            cur_section = 'avg_obs_freq'\n",
    "        elif elements:\n",
    "            if cur_section == 'tree_score':\n",
    "                tree_score = elements[0]\n",
    "            elif cur_section == 'node':\n",
    "                if int(elements[0]) not in nodes:\n",
    "                    nodes[int(elements[0])] = set()\n",
    "                nodes[int(elements[0])].add(int(elements[1]))\n",
    "            elif cur_section == 'cluster':\n",
    "                clusters[int(elements[1])] = int(elements[0])\n",
    "            elif cur_section == 'mutation':\n",
    "                mutations[elements[0]] = int(elements[1])\n",
    "            elif cur_section == 'node_freq':\n",
    "                node_freq[int(elements[0])] = [float(num) for num in elements[1].split(',')]\n",
    "            elif cur_section == 'avg_obs_freq':\n",
    "                if mutations[elements[0]] not in avg_obs_freq:\n",
    "                    avg_obs_freq[mutations[elements[0]]] = []\n",
    "                avg_obs_freq[mutations[elements[0]]].append([float(num) for num in elements[1].split(',')])\n",
    "\n",
    "            \n",
    "    for k, v in avg_obs_freq.items():\n",
    "        avg_obs_freq[k] = [round(num, 4) for num in list(np.mean(v, axis = 0))]\n",
    "    \n",
    "    num_of_mutations = {}\n",
    "    for _, v in mutations.items():\n",
    "        if v not in num_of_mutations:\n",
    "            num_of_mutations[v] = 1\n",
    "        else:\n",
    "            num_of_mutations[v] += 1\n",
    "    print(nodes)"
   ]
  },
  {
   "cell_type": "code",
   "execution_count": 86,
   "metadata": {},
   "outputs": [],
   "source": [
    "import json\n",
    "\n",
    "# create the json string\n",
    "\n",
    "json_string = {}\n",
    "def create_json(cur, node):\n",
    "    cur[\"node\"] = node\n",
    "    cur[\"cluster\"] = clusters[node]\n",
    "    cur[\"mutations\"] = num_of_mutations[node]\n",
    "    cur[\"node_freq\"] = node_freq[node]\n",
    "    cur[\"avg_obs_freq\"] = avg_obs_freq[node]\n",
    "\n",
    "    if node in nodes and nodes[node]:\n",
    "        cur[\"children\"] = []\n",
    "        for i in nodes[node]:\n",
    "            child = {}\n",
    "            create_json(child, i)\n",
    "            cur[\"children\"].append(child)\n",
    "\n",
    "create_json(json_string, 1)\n",
    "\n",
    "filename = 'data.json'\n",
    "with open(filename, \"w\") as f:\n",
    "    json.dump(json_string, f, **{\"indent\": 4})"
   ]
  }
 ],
 "metadata": {
  "kernelspec": {
   "display_name": "deeplearning",
   "language": "python",
   "name": "python3"
  },
  "language_info": {
   "codemirror_mode": {
    "name": "ipython",
    "version": 3
   },
   "file_extension": ".py",
   "mimetype": "text/x-python",
   "name": "python",
   "nbconvert_exporter": "python",
   "pygments_lexer": "ipython3",
   "version": "3.11.5"
  }
 },
 "nbformat": 4,
 "nbformat_minor": 2
}
