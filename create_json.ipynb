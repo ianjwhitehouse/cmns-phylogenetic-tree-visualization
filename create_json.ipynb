{
 "cells": [
  {
   "cell_type": "code",
   "execution_count": 7,
   "metadata": {},
   "outputs": [
    {
     "name": "stdout",
     "output_type": "stream",
     "text": [
      "{6: ['chr10:35190958', 'chr12:22509130', 'chr13:71027393', 'chr14:100184987', 'chr16:55086544', 'chr16:758231', 'chr1:16635027', 'chr20:29059469', 'chr21:10445925', 'chr22:21555351', 'chr2:168253884', 'chr2:61789950', 'chr4:118384421', 'chr4:78253573', 'chr5:143910268', 'chr6:150131673', 'chr6:32554431', 'chr6:32554456', 'chr7:22030019', 'chr7:77473226', 'chr8:144993590', 'chr8:1858293', 'chr8:48021844', 'chr9:33367981', 'chr9:509285', 'chr9:91742118'], 7: ['chr11:2385519', 'chr17:41424507', 'chr19:7451021', 'chr21:10329899', 'chr21:10417801', 'chr21:9246746', 'chr22:10744644', 'chr22:11057057', 'chr6:10447082', 'chr7:100973146', 'chr7:100973185', 'chr7:100973191', 'chr7:100973217', 'chr7:100973224', 'chr7:152403470', 'chr9:33797664', 'chr9:33797665', 'chr9:65389815', 'chr9:65389841', 'chr9:66184841'], 4: ['chr12:111649006', 'chr17:67682883', 'chr20:33795887', 'chr2:20505119', 'chr2:20505129', 'chr3:125420133', 'chr3:183579769', 'chr3:35505119', 'chr3:64124514', 'chr4:188270148', 'chr4:54705792', 'chr4:54705793', 'chr4:9193417', 'chr5:100187928', 'chr5:180517892', 'chr8:27028517', 'chr8:34631643'], 3: ['chr11:115899304', 'chr12:130406953', 'chr12:42119028', 'chr15:20353248', 'chr17:18545248', 'chr18:14780057', 'chr1:158139878', 'chr1:44372140', 'chr2:149212100', 'chr4:154011094', 'chr4:169495494', 'chr4:80266653', 'chr5:157876905', 'chr7:151357006', 'chr8:29509841'], 8: ['chr19:39736313', 'chr19:39736316', 'chr5:24749335', 'chr8:11929426'], 2: ['chr11:18850562', 'chr11:36102177', 'chr13:86562546', 'chr14:67698377', 'chr15:54693789', 'chr16:14274583', 'chr16:17010064', 'chr19:51363700', 'chr1:154238981', 'chr1:181441425', 'chr1:59826965', 'chr2:57305422', 'chr3:124393248', 'chr3:170262887', 'chr3:170262903', 'chr5:174922772', 'chr6:159990927', 'chr7:18817300', 'chr7:26946196', 'chr7:35112787', 'chr7:35112793'], 9: ['chr19:48834713', 'chr5:758344', 'chr7:152405065'], 1: ['chr10:14820464', 'chr10:25928466', 'chr10:45677035', 'chr10:45759328', 'chr10:98454774', 'chr11:10802029', 'chr11:123205300', 'chr11:129895735', 'chr11:13236448', 'chr11:18450399', 'chr11:31354013', 'chr11:32845442', 'chr11:48526164', 'chr11:4955891', 'chr11:56144426', 'chr11:56144429', 'chr11:65980644', 'chr11:66461242', 'chr11:6712421', 'chr11:73337222', 'chr11:84645762', 'chr12:29361016', 'chr12:8275504', 'chr14:101426231', 'chr14:18334019', 'chr14:24286949', 'chr14:27752022', 'chr14:38115333', 'chr14:45935271', 'chr14:46395461', 'chr14:53343471', 'chr14:58161486', 'chr14:63250832', 'chr14:70477996', 'chr14:75937432', 'chr14:77649279', 'chr14:84206174', 'chr14:86903421', 'chr14:90426224', 'chr14:90507455', 'chr14:95772558', 'chr14:96095744', 'chr15:24649231', 'chr15:34456649', 'chr15:39005665', 'chr15:39005671', 'chr15:45466280', 'chr15:52738603', 'chr15:64365297', 'chr15:65428923', 'chr15:78389023', 'chr15:90351167', 'chr15:91153775', 'chr15:99800158', 'chr16:1984069', 'chr16:23213377', 'chr16:391447', 'chr16:51212553', 'chr16:51226602', 'chr16:57408782', 'chr16:66703576', 'chr16:816053', 'chr18:14780109', 'chr18:14780117', 'chr18:3428779', 'chr18:37304690', 'chr18:37352943', 'chr18:3867462', 'chr18:49341256', 'chr18:7146523', 'chr18:7151746', 'chr19:12572649', 'chr19:41960942', 'chr19:43415656', 'chr19:47010000', 'chr19:53585657', 'chr19:53585664', 'chr19:54384040', 'chr19:54384045', 'chr19:54957917', 'chr19:55565626', 'chr19:55870384', 'chr19:58354221', 'chr19:7450989', 'chr1:106476506', 'chr1:115445146', 'chr1:133483', 'chr1:147082237', 'chr1:14777303', 'chr1:154425677', 'chr1:154914041', 'chr1:162180479', 'chr1:16720579', 'chr1:1752730', 'chr1:179453383', 'chr1:19337948', 'chr1:217380368', 'chr1:229941585', 'chr1:23386280', 'chr1:245467632', 'chr1:45882204', 'chr1:52663447', 'chr1:52663473', 'chr1:52839317', 'chr1:55042209', 'chr1:63942956', 'chr1:6509672', 'chr1:65395191', 'chr1:6927281', 'chr1:6927345', 'chr1:73806620', 'chr1:91739855', 'chr20:12582818', 'chr20:18379613', 'chr20:36869391', 'chr20:37453828', 'chr20:46961056', 'chr20:47170240', 'chr20:49401890', 'chr20:50297602', 'chr20:63642964', 'chr20:8961751', 'chr22:20216474', 'chr22:20753893', 'chr22:22209167', 'chr22:26681111', 'chr22:29266247', 'chr22:30901860', 'chr22:41174067', 'chr22:41673692', 'chr22:50398967', 'chr2:101050122', 'chr2:101376012', 'chr2:101376014', 'chr2:107904011', 'chr2:128206157', 'chr2:156347963', 'chr2:159218388', 'chr2:17717059', 'chr2:17717082', 'chr2:186833156', 'chr2:192958423', 'chr2:23181709', 'chr2:25958872', 'chr2:38766635', 'chr2:46509234', 'chr2:47322149', 'chr2:49493019', 'chr2:61803166', 'chr2:65567536', 'chr2:70811037', 'chr2:70811077', 'chr2:97152034', 'chr2:97152109', 'chr3:133597121', 'chr3:140997392', 'chr3:142003366', 'chr3:143087470', 'chr3:155488444', 'chr3:159737038', 'chr3:161734873', 'chr3:172504929', 'chr3:194604073', 'chr3:196873353', 'chr6:107974088', 'chr6:116700425', 'chr6:154640580', 'chr6:158893575', 'chr6:163672279', 'chr6:24402811', 'chr6:29066518', 'chr6:32584627', 'chr6:33408938', 'chr6:35796793', 'chr6:36417304', 'chr6:38702151', 'chr6:42506147', 'chr6:4431011', 'chr6:93637205', 'chr7:102441839', 'chr7:104958001', 'chr7:104958032', 'chr7:108187699', 'chr7:65802215', 'chr7:65808081', 'chr8:100773258', 'chr8:108954548', 'chr8:12543824', 'chr8:27369609', 'chr8:35929004', 'chr8:386881', 'chr8:386886', 'chr8:386889', 'chr8:40491376', 'chr8:57209684', 'chr8:69697267', 'chr8:71020834', 'chr8:94475148', 'chr9:120953009', 'chr9:129830496', 'chr9:138152669', 'chr9:77535260', 'chr9:85698944', 'chr9:94293662', 'chr9:95714915'], 5: ['chr10:50660355', 'chr11:68558508', 'chr14:105668112', 'chr14:23104907', 'chr15:21261285', 'chr16:34586765', 'chr18:11960260', 'chr19:37293700', 'chr19:44488331', 'chr19:54243000', 'chr19:54725994', 'chr19:54725995', 'chr19:8882973', 'chr19:8882983', 'chr1:149554864', 'chr1:16621258', 'chr1:178555625', 'chr2:158868366', 'chr6:26897701', 'chr6:32554488', 'chr6:32589877', 'chr6:32589880', 'chr6:32589913', 'chr6:35951090', 'chr7:76501400', 'chr8:18069739', 'chr9:87816633']}\n"
     ]
    }
   ],
   "source": [
    "import numpy as np\n",
    "\n",
    "# global variables\n",
    "tree_score = None\n",
    "nodes = {}\n",
    "clusters = {}\n",
    "mutations = {}\n",
    "node_freq = {}\n",
    "avg_obs_freq = {}\n",
    "\n",
    "with open('example_output.txt', 'r') as file:\n",
    "    cur_section = None\n",
    "    for line in file:\n",
    "        elements = line.strip().split() \n",
    "        if elements == ['TREE_SCORE']:\n",
    "            cur_section = 'tree_score'\n",
    "        elif elements == ['PARENT_NODE', 'CHILD_NODE']:\n",
    "            cur_section = 'node'\n",
    "        elif elements == ['CLUSTER', 'NODE_OF_CLUSTER']:\n",
    "            cur_section = 'cluster'\n",
    "        elif elements == ['MUTATION', 'NODE_OF_MUTATION']:\n",
    "            cur_section = 'mutation'\n",
    "        elif elements == ['NODE', 'NODE_FREQS', 'CLADE_FREQS']:\n",
    "            cur_section = 'node_freq'\n",
    "        elif elements == ['MUT_ID', 'OBSERVED_FREQS', 'INFERRED_FREQS', 'ABS_OBSERVED_MINUS_INFERRED']:\n",
    "            cur_section = 'avg_obs_freq'\n",
    "        elif elements:\n",
    "            if cur_section == 'tree_score':\n",
    "                tree_score = elements[0]\n",
    "            elif cur_section == 'node':\n",
    "                if int(elements[0]) not in nodes:\n",
    "                    nodes[int(elements[0])] = set()\n",
    "                nodes[int(elements[0])].add(int(elements[1]))\n",
    "            elif cur_section == 'cluster':\n",
    "                clusters[int(elements[1])] = int(elements[0])\n",
    "            elif cur_section == 'mutation':\n",
    "                mutations[elements[0]] = int(elements[1])\n",
    "            elif cur_section == 'node_freq':\n",
    "                node_freq[int(elements[0])] = [float(num) for num in elements[1].split(',')]\n",
    "            elif cur_section == 'avg_obs_freq':\n",
    "                if mutations[elements[0]] not in avg_obs_freq:\n",
    "                    avg_obs_freq[mutations[elements[0]]] = []\n",
    "                avg_obs_freq[mutations[elements[0]]].append([float(num) for num in elements[1].split(',')])\n",
    "\n",
    "            \n",
    "    for k, v in avg_obs_freq.items():\n",
    "        avg_obs_freq[k] = [round(num, 4) for num in list(np.mean(v, axis = 0))]\n",
    "    \n",
    "    num_of_mutations = {}\n",
    "    mutations_at_node = {}\n",
    "    for k, v in mutations.items():\n",
    "        if v not in num_of_mutations:\n",
    "            num_of_mutations[v] = 1\n",
    "            mutations_at_node[v] = [k]\n",
    "        else:\n",
    "            num_of_mutations[v] += 1\n",
    "            mutations_at_node[v].append(k)\n",
    "\n",
    "    print(mutations_at_node)"
   ]
  },
  {
   "cell_type": "code",
   "execution_count": 8,
   "metadata": {},
   "outputs": [],
   "source": [
    "import json\n",
    "\n",
    "# create the json string\n",
    "\n",
    "json_string = {}\n",
    "def create_json(cur, node):\n",
    "    cur[\"node\"] = node\n",
    "    cur[\"cluster\"] = clusters[node]\n",
    "    cur[\"mutations\"] = num_of_mutations[node]\n",
    "    cur[\"node_freq\"] = node_freq[node]\n",
    "    cur[\"avg_obs_freq\"] = avg_obs_freq[node]\n",
    "    cur[\"mutation_names\"] = mutations_at_node[node]\n",
    "\n",
    "    if node in nodes and nodes[node]:\n",
    "        cur[\"children\"] = []\n",
    "        for i in nodes[node]:\n",
    "            child = {}\n",
    "            create_json(child, i)\n",
    "            cur[\"children\"].append(child)\n",
    "\n",
    "create_json(json_string, 1)\n",
    "\n",
    "filename = 'data.json'\n",
    "with open(filename, \"w\") as f:\n",
    "    json.dump(json_string, f, **{\"indent\": 4})"
   ]
  },
  {
   "cell_type": "code",
   "execution_count": null,
   "metadata": {},
   "outputs": [],
   "source": []
  }
 ],
 "metadata": {
  "kernelspec": {
   "display_name": "imageclassification",
   "language": "python",
   "name": "imageclassification"
  },
  "language_info": {
   "codemirror_mode": {
    "name": "ipython",
    "version": 3
   },
   "file_extension": ".py",
   "mimetype": "text/x-python",
   "name": "python",
   "nbconvert_exporter": "python",
   "pygments_lexer": "ipython3",
   "version": "3.9.12"
  }
 },
 "nbformat": 4,
 "nbformat_minor": 2
}
